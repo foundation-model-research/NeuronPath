{
 "cells": [
  {
   "cell_type": "code",
   "execution_count": null,
   "metadata": {},
   "outputs": [],
   "source": [
    "import jsonlines\n",
    "import numpy as np\n",
    "\n",
    "def load_results_jsonl(path):\n",
    "    with jsonlines.open(path) as reader:\n",
    "        remove_accuracy = []\n",
    "        base_accuracy = []\n",
    "        enhance_accuracy =  []\n",
    "        remove_pro = []\n",
    "        enhance_pro = []\n",
    "        _data = [obj for obj in reader]\n",
    "        for _ in _data:\n",
    "            for one_data in _:\n",
    "                remove_accuracy.append(one_data['remove_label'])\n",
    "                base_accuracy.append(one_data['base_label'])\n",
    "                enhance_accuracy.append(one_data['enhance_label'])\n",
    "        remove_accuracy = np.array(remove_accuracy).squeeze(1)\n",
    "        base_accuracy = np.array(base_accuracy).squeeze(1)\n",
    "        enhance_accuracy = np.array(enhance_accuracy).squeeze(1)\n",
    "\n",
    "        # remove_pro = remove_accuracy/base_accuracy\n",
    "        # enhance_pro = enhance_accuracy/base_accuracy\n",
    "\n",
    "    return remove_accuracy, base_accuracy, enhance_accuracy\n",
    "\n",
    "    "
   ]
  },
  {
   "cell_type": "markdown",
   "metadata": {},
   "source": [
    "# MAE-B_16"
   ]
  },
  {
   "cell_type": "code",
   "execution_count": null,
   "metadata": {},
   "outputs": [],
   "source": [
    "import os\n",
    "import numpy as np\n",
    "JA_PATH = '/edit-MAE-B-ja'\n",
    "INFLUENCE_PATTERN_PATH = '/edit-MAE-B-ip'\n",
    "BASE_PATH = '/edit-MAE-B-base'\n",
    "INTEGRATED_GRADIENTS_PATH = BASE_PATH\n",
    "\n",
    "ip_remove_lst = []\n",
    "ip_enhance_lst = []\n",
    "ja_remove_lst = []\n",
    "ja_enhance_lst = []\n",
    "base_remove_lst = []\n",
    "base_enhance_lst = []\n",
    "base_base_lst = []\n",
    "\n",
    "for class_idx in range(1000):\n",
    "    influence_pattern_path = os.path.join(INFLUENCE_PATTERN_PATH, f\"imgnet_all-{int(class_idx)}.rlt.jsonl\")\n",
    "    ja_path = os.path.join(JA_PATH, f\"imgnet_all-{int(class_idx)}.rlt.jsonl\")\n",
    "    base_path = os.path.join(BASE_PATH, f\"imgnet_all-{int(class_idx)}.rlt.jsonl\")\n",
    "\n",
    "    ip_remove, ip_base, ip_enhance = load_results_jsonl(influence_pattern_path)\n",
    "    ja_remove, ja_base, ja_enhance = load_results_jsonl(ja_path)\n",
    "    base_remove, base_base, base_enhance = load_results_jsonl(base_path)\n",
    "\n",
    "    assert not (ip_base-ja_base).any()\n",
    "\n",
    "    ip_remove_lst.append((ip_remove==class_idx).sum())\n",
    "    ip_enhance_lst.append((ip_enhance==class_idx).sum())\n",
    "    ja_remove_lst.append((ja_remove==class_idx).sum())\n",
    "    ja_enhance_lst.append((ja_enhance==class_idx).sum())\n",
    "    base_remove_lst.append((base_remove==class_idx).sum())\n",
    "    base_enhance_lst.append((base_enhance==class_idx).sum())\n",
    "    base_base_lst.append((base_base==class_idx).sum())"
   ]
  },
  {
   "cell_type": "code",
   "execution_count": null,
   "metadata": {},
   "outputs": [],
   "source": [
    "print(f\"remove influence pattern: {np.array(ip_remove_lst).mean()/50.0 - np.array(base_base_lst).mean()/50.0}\")\n",
    "print(f\"remove joint attribution: {np.array(ja_remove_lst).mean()/50.0 - np.array(base_base_lst).mean()/50.0}\")\n",
    "print(f\"remove base: {np.array(base_remove_lst).mean()/50.0 - np.array(base_base_lst).mean()/50.0}\")"
   ]
  },
  {
   "cell_type": "code",
   "execution_count": null,
   "metadata": {},
   "outputs": [],
   "source": [
    "print(f\"base: {np.array(base_base_lst).mean()/50.0}\")"
   ]
  },
  {
   "cell_type": "code",
   "execution_count": null,
   "metadata": {},
   "outputs": [],
   "source": [
    "print(f\"enhance influence pattern: {np.array(ip_enhance_lst).mean()/50.0 - np.array(base_base_lst).mean()/50.0}\")\n",
    "print(f\"enhance joint attribution: {np.array(ja_enhance_lst).mean()/50.0 - np.array(base_base_lst).mean()/50.0}\")\n",
    "print(f\"enhance base: {np.array(base_enhance_lst).mean()/50.0 - np.array(base_base_lst).mean()/50.0}\")"
   ]
  }
 ],
 "metadata": {
  "kernelspec": {
   "display_name": "mae",
   "language": "python",
   "name": "python3"
  },
  "language_info": {
   "codemirror_mode": {
    "name": "ipython",
    "version": 3
   },
   "file_extension": ".py",
   "mimetype": "text/x-python",
   "name": "python",
   "nbconvert_exporter": "python",
   "pygments_lexer": "ipython3",
   "version": "3.10.13"
  }
 },
 "nbformat": 4,
 "nbformat_minor": 2
}
